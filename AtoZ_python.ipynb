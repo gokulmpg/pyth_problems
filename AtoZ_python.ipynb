{
 "cells": [
  {
   "cell_type": "code",
   "execution_count": 16,
   "id": "6ac46d98-cbb9-4d10-8054-858b8c769b43",
   "metadata": {},
   "outputs": [],
   "source": [
    "## BAsic python\n",
    "\n",
    "#Find man\n",
    "\n",
    "#Greedy\n",
    "\n",
    "\n",
    "\n"
   ]
  },
  {
   "cell_type": "code",
   "execution_count": 1,
   "id": "7838bd1b-8445-4481-8409-b45fbc60f87a",
   "metadata": {},
   "outputs": [],
   "source": [
    "#Iterator\n",
    "\n",
    "\n"
   ]
  },
  {
   "cell_type": "code",
   "execution_count": null,
   "id": "40fbf63b-7753-41d9-8251-63975de5f0f7",
   "metadata": {},
   "outputs": [],
   "source": []
  },
  {
   "cell_type": "code",
   "execution_count": 2,
   "id": "56fd4299-8346-44d8-8dcf-41e85183ffb0",
   "metadata": {},
   "outputs": [],
   "source": [
    "#Generator\n",
    "\n",
    "\n"
   ]
  },
  {
   "cell_type": "code",
   "execution_count": null,
   "id": "061c4204-0976-4216-bf93-c4dbb8f69de4",
   "metadata": {},
   "outputs": [],
   "source": []
  },
  {
   "cell_type": "code",
   "execution_count": 3,
   "id": "5a543e44-d288-48ef-9227-e2282b696b25",
   "metadata": {},
   "outputs": [],
   "source": [
    "#Decorators"
   ]
  },
  {
   "cell_type": "code",
   "execution_count": null,
   "id": "be84f5ce-b280-4849-905f-89510a171e88",
   "metadata": {},
   "outputs": [],
   "source": []
  },
  {
   "cell_type": "code",
   "execution_count": 4,
   "id": "5b32e63b-4003-4e5e-8b3b-5ead814dcd55",
   "metadata": {},
   "outputs": [],
   "source": [
    "#Hamdle exceptions"
   ]
  },
  {
   "cell_type": "code",
   "execution_count": null,
   "id": "e2aae48d-2f37-4f7a-add1-62694ea11e16",
   "metadata": {},
   "outputs": [],
   "source": []
  },
  {
   "cell_type": "code",
   "execution_count": null,
   "id": "b8efc16c-701d-4c5c-993b-73bddf32f0ba",
   "metadata": {},
   "outputs": [],
   "source": []
  },
  {
   "cell_type": "code",
   "execution_count": 5,
   "id": "f2362080-f4ea-4cea-9837-ad39f70d4864",
   "metadata": {},
   "outputs": [],
   "source": [
    "#Classes"
   ]
  },
  {
   "cell_type": "code",
   "execution_count": null,
   "id": "1dd61517-dd6c-4f24-ad79-34516e3948b8",
   "metadata": {},
   "outputs": [],
   "source": []
  },
  {
   "cell_type": "code",
   "execution_count": 6,
   "id": "719a9972-1fe0-4f20-bba0-1b3fc379ac46",
   "metadata": {},
   "outputs": [],
   "source": [
    "#Object"
   ]
  },
  {
   "cell_type": "code",
   "execution_count": null,
   "id": "582a47ce-f90e-44da-9189-2b7b5fb05879",
   "metadata": {},
   "outputs": [],
   "source": []
  },
  {
   "cell_type": "code",
   "execution_count": 7,
   "id": "3bc19538-fb77-4ea1-8a46-a6339df7600d",
   "metadata": {},
   "outputs": [],
   "source": [
    "#Method"
   ]
  },
  {
   "cell_type": "code",
   "execution_count": null,
   "id": "6f537056-9cf8-4fca-b03d-11a0e34028b0",
   "metadata": {},
   "outputs": [],
   "source": []
  },
  {
   "cell_type": "code",
   "execution_count": null,
   "id": "5798f3d6-b786-45df-afcc-804ac8ce563d",
   "metadata": {},
   "outputs": [],
   "source": []
  },
  {
   "cell_type": "code",
   "execution_count": 8,
   "id": "9b2f04eb-b586-4c0a-aaa4-32b5dd8c6be1",
   "metadata": {},
   "outputs": [],
   "source": [
    "#Inheritance"
   ]
  },
  {
   "cell_type": "code",
   "execution_count": null,
   "id": "865eb5c4-ddcb-4720-9ce3-915bdc199979",
   "metadata": {},
   "outputs": [],
   "source": []
  },
  {
   "cell_type": "code",
   "execution_count": null,
   "id": "e0f08813-69aa-42e3-a01d-be9bfa87c933",
   "metadata": {},
   "outputs": [],
   "source": []
  },
  {
   "cell_type": "code",
   "execution_count": 9,
   "id": "91cc53de-9d16-447d-9905-c76147d9b86e",
   "metadata": {},
   "outputs": [],
   "source": [
    "#Polymorphism"
   ]
  },
  {
   "cell_type": "code",
   "execution_count": null,
   "id": "baa2258b-2984-45fd-95c4-cd0599450c8a",
   "metadata": {},
   "outputs": [],
   "source": []
  },
  {
   "cell_type": "code",
   "execution_count": null,
   "id": "dc85323f-0112-4ec5-81a5-af3fee38caeb",
   "metadata": {},
   "outputs": [],
   "source": []
  },
  {
   "cell_type": "code",
   "execution_count": 10,
   "id": "86f2e10a-b015-4236-970e-e0315b44b5df",
   "metadata": {},
   "outputs": [],
   "source": [
    "#Data abstarction"
   ]
  },
  {
   "cell_type": "code",
   "execution_count": null,
   "id": "d682319d-777e-453f-b0bf-38397b6caeed",
   "metadata": {},
   "outputs": [],
   "source": []
  },
  {
   "cell_type": "code",
   "execution_count": null,
   "id": "b1f8e78e-e3e8-4367-8ec5-7abb05dcf55a",
   "metadata": {},
   "outputs": [],
   "source": []
  },
  {
   "cell_type": "code",
   "execution_count": 11,
   "id": "f0f4c067-5e37-4c24-a991-afe0aaab6aaf",
   "metadata": {},
   "outputs": [],
   "source": [
    "#Encapsulation"
   ]
  },
  {
   "cell_type": "code",
   "execution_count": null,
   "id": "e019a5ec-0f15-4798-94f1-23dc211f8d3c",
   "metadata": {},
   "outputs": [],
   "source": []
  },
  {
   "cell_type": "code",
   "execution_count": null,
   "id": "beaa90be-18f1-4202-8498-71b88f4d8728",
   "metadata": {},
   "outputs": [],
   "source": []
  },
  {
   "cell_type": "code",
   "execution_count": null,
   "id": "4f789ef6-76d3-4863-80f3-2fad2d5f179a",
   "metadata": {},
   "outputs": [],
   "source": []
  },
  {
   "cell_type": "code",
   "execution_count": 13,
   "id": "7722a93c-47eb-4650-b04d-95413c16dc4f",
   "metadata": {},
   "outputs": [],
   "source": [
    "#Numpy\n",
    "\n",
    "#Pandas\n",
    "\n",
    "#Matplotlib\n",
    "\n",
    "#Seaborn\n",
    "\n",
    "#Scipy"
   ]
  },
  {
   "cell_type": "code",
   "execution_count": null,
   "id": "4631f925-744e-46b3-a21e-881312908135",
   "metadata": {},
   "outputs": [],
   "source": []
  },
  {
   "cell_type": "code",
   "execution_count": 14,
   "id": "d5b3cd34-8c0e-4bf3-8673-4be717946391",
   "metadata": {},
   "outputs": [],
   "source": [
    "# Django\n",
    "\n",
    "\n",
    "\n",
    "# Plotly Dash\n",
    "\n",
    "\n",
    "\n",
    "\n",
    "\n",
    "#Streamlit\n",
    "\n",
    "\n",
    "\n",
    "\n",
    "\n",
    "\n"
   ]
  },
  {
   "cell_type": "code",
   "execution_count": 15,
   "id": "68925673-0129-4848-8e1e-3118b0a0becb",
   "metadata": {},
   "outputs": [],
   "source": [
    "# Scikit learn\n",
    "\n",
    "\n",
    "# urllib\n",
    "\n",
    "# sqllite\n",
    "\n",
    "\n",
    "# os\n",
    "\n",
    "\n"
   ]
  },
  {
   "cell_type": "code",
   "execution_count": null,
   "id": "c399ba31-4f66-4997-8b3a-65356ae131d2",
   "metadata": {},
   "outputs": [],
   "source": []
  }
 ],
 "metadata": {
  "kernelspec": {
   "display_name": "Python 3 (ipykernel)",
   "language": "python",
   "name": "python3"
  },
  "language_info": {
   "codemirror_mode": {
    "name": "ipython",
    "version": 3
   },
   "file_extension": ".py",
   "mimetype": "text/x-python",
   "name": "python",
   "nbconvert_exporter": "python",
   "pygments_lexer": "ipython3",
   "version": "3.11.5"
  }
 },
 "nbformat": 4,
 "nbformat_minor": 5
}
