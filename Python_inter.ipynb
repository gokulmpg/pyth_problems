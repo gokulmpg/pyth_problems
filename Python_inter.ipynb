{
 "cells": [
  {
   "cell_type": "code",
   "execution_count": 1,
   "id": "aca7fc62-a5b7-4d71-8043-81a4dcdf1640",
   "metadata": {},
   "outputs": [],
   "source": [
    "#Common letters in strings "
   ]
  },
  {
   "cell_type": "code",
   "execution_count": 4,
   "id": "872c37a6-9f3f-497e-9b88-e7d4ecdbde77",
   "metadata": {},
   "outputs": [
    {
     "data": {
      "text/plain": [
       "{'A', 'N'}"
      ]
     },
     "execution_count": 4,
     "metadata": {},
     "output_type": "execute_result"
    }
   ],
   "source": [
    "str1 = 'NAINA'\n",
    "str2 = 'REENA'\n",
    "\n",
    "\n",
    "\n",
    "def common_letters(str1,str2):\n",
    "    s1,s2 = set(str1), set(str2)\n",
    "    return s1&s2\n",
    "\n",
    "\n",
    "common_letters(str1,str2)"
   ]
  },
  {
   "cell_type": "code",
   "execution_count": 5,
   "id": "316a233e-5c58-4698-a33c-c52dc9ff5bb4",
   "metadata": {},
   "outputs": [],
   "source": [
    "#Frequnecy of words"
   ]
  },
  {
   "cell_type": "code",
   "execution_count": 16,
   "id": "637b4490-72d1-4437-8452-906c15d733c1",
   "metadata": {},
   "outputs": [
    {
     "name": "stdin",
     "output_type": "stream",
     "text": [
      " king is king no matter what kingdom is\n"
     ]
    },
    {
     "data": {
      "text/plain": [
       "({'king': 2, 'is': 2, 'no': 1, 'matter': 1, 'what': 1, 'kingdom': 1},\n",
       " {'king': 2, 'is': 2, 'no': 1, 'matter': 1, 'what': 1, 'kingdom': 1})"
      ]
     },
     "execution_count": 16,
     "metadata": {},
     "output_type": "execute_result"
    }
   ],
   "source": [
    "def freq_words():\n",
    "    sentence = input()\n",
    "\n",
    "    sentence = sentence.split()\n",
    "    d = {}\n",
    "    alternate_d = {}\n",
    "    for i in sentence:\n",
    "\n",
    "        # ---- Alternate 1\n",
    "        if i not in d.keys():\n",
    "            d[i] = 0\n",
    "        d[i] = d[i]+1\n",
    "\n",
    "        #---- Alternate 2 -----\n",
    "        alternate_d[i] = alternate_d.get(i,0)+1\n",
    "\n",
    "    \n",
    "    return d,alternate_d\n",
    "freq_words()\n",
    "    "
   ]
  },
  {
   "cell_type": "code",
   "execution_count": 17,
   "id": "00c0ce34-8c37-493b-a560-8e3d0c75537b",
   "metadata": {},
   "outputs": [],
   "source": [
    "# list to dictonries"
   ]
  },
  {
   "cell_type": "code",
   "execution_count": 21,
   "id": "7179abcc-777f-4641-9222-78ee3e5f2cb6",
   "metadata": {},
   "outputs": [
    {
     "data": {
      "text/plain": [
       "({1: 'ramu', 2: 'somu', 3: 'homo'}, [(1, 'ramu'), (2, 'somu'), (3, 'homo')])"
      ]
     },
     "execution_count": 21,
     "metadata": {},
     "output_type": "execute_result"
    }
   ],
   "source": [
    "def dict_tolist_tuple():\n",
    "    keys = [1,2,3]\n",
    "    values = ['ramu','somu','homo']\n",
    "    outp = dict(zip(keys,values))\n",
    "    itm =[]\n",
    "    for i in outp.items():\n",
    "        itm.append(i)\n",
    "    return outp,itm\n",
    "\n",
    "\n",
    "\n",
    "dict_tolist_tuple()\n"
   ]
  },
  {
   "cell_type": "code",
   "execution_count": 23,
   "id": "2930d148-6376-4866-ac01-98a0b7517714",
   "metadata": {},
   "outputs": [],
   "source": [
    "# Missing seq num in array"
   ]
  },
  {
   "cell_type": "code",
   "execution_count": 31,
   "id": "6bc0a19b-7924-4f78-9750-ae217e78524d",
   "metadata": {},
   "outputs": [
    {
     "data": {
      "text/plain": [
       "5"
      ]
     },
     "execution_count": 31,
     "metadata": {},
     "output_type": "execute_result"
    }
   ],
   "source": [
    "lst1 = [1,2,3,4,6]\n",
    "\n",
    "def missing_num(lst1):\n",
    "    n = lst1[-1]\n",
    "    total = n*(n+1)//2\n",
    "    sum1 = sum(lst1)\n",
    "    return total-sum1\n",
    "missing_num(lst1)"
   ]
  },
  {
   "cell_type": "code",
   "execution_count": 50,
   "id": "43ad5ba2-1a1c-4380-8c9a-a75e8e48fad9",
   "metadata": {},
   "outputs": [
    {
     "data": {
      "text/plain": [
       "5"
      ]
     },
     "execution_count": 50,
     "metadata": {},
     "output_type": "execute_result"
    }
   ],
   "source": [
    "def missing_num_XOR(lst1):\n",
    "    n = len(lst1)\n",
    "    f = lst1[0]\n",
    "    for i in range(1,n):\n",
    "        f= f^lst1[i]\n",
    "    x=0\n",
    "    for i in range(1,n+2):\n",
    "        x = x^i\n",
    "        \n",
    "    return(f^x)\n",
    "missing_num_XOR(lst1)"
   ]
  },
  {
   "cell_type": "code",
   "execution_count": 51,
   "id": "ca008fc6-4650-4f1b-be28-1aa1d0fef9e2",
   "metadata": {},
   "outputs": [],
   "source": [
    "#Two Sum"
   ]
  },
  {
   "cell_type": "code",
   "execution_count": 56,
   "id": "89c7b242-6000-4560-b41f-5a52ac6162e2",
   "metadata": {},
   "outputs": [
    {
     "name": "stdout",
     "output_type": "stream",
     "text": [
      "3 5\n",
      "4 4\n"
     ]
    }
   ],
   "source": [
    "sorted_array = [1,2,3,4,5,5,9,10]\n",
    "sum = 8\n",
    "def Two_sum(arr,sum):\n",
    "    arr.sort\n",
    "    l=0\n",
    "    r = len(arr)-1\n",
    "    while l <= r:\n",
    "        if arr[l]+arr[r]>sum:\n",
    "            r = r-1\n",
    "        elif arr[l]+arr[r]< sum:\n",
    "            l = l +1\n",
    "        elif arr[l]+arr[r]==sum:\n",
    "            print(arr[l],arr[r])\n",
    "            r= r-1\n",
    "            l = l+1\n",
    "\n",
    "Two_sum(sorted_array,sum)"
   ]
  },
  {
   "cell_type": "code",
   "execution_count": 57,
   "id": "fed7ddea-f5f4-46f3-92c7-473dca653cbe",
   "metadata": {},
   "outputs": [],
   "source": [
    "#Height of Binary tree"
   ]
  },
  {
   "cell_type": "code",
   "execution_count": 60,
   "id": "97d6c713-d15a-4642-87e4-92f7029dab15",
   "metadata": {},
   "outputs": [
    {
     "data": {
      "text/plain": [
       "'\\nif A = None:\\n    return 0\\nelse:\\n    l = h(A.l)\\n    r = h(A.r)\\n\\nif l > r:\\n    return ( 1 + l)\\nelse:\\n    return (1+r)\\n\\n'"
      ]
     },
     "execution_count": 60,
     "metadata": {},
     "output_type": "execute_result"
    }
   ],
   "source": [
    "\n",
    "\n",
    "\"\"\"\n",
    "if A = None:\n",
    "    return 0\n",
    "else:\n",
    "    l = h(A.l)\n",
    "    r = h(A.r)\n",
    "\n",
    "if l > r:\n",
    "    return ( 1 + l)\n",
    "else:\n",
    "    return (1+r)\n",
    "\n",
    "\"\"\""
   ]
  },
  {
   "cell_type": "code",
   "execution_count": null,
   "id": "7222fd38-7b4d-42b9-b44e-01257e545fff",
   "metadata": {},
   "outputs": [],
   "source": []
  }
 ],
 "metadata": {
  "kernelspec": {
   "display_name": "Python 3 (ipykernel)",
   "language": "python",
   "name": "python3"
  },
  "language_info": {
   "codemirror_mode": {
    "name": "ipython",
    "version": 3
   },
   "file_extension": ".py",
   "mimetype": "text/x-python",
   "name": "python",
   "nbconvert_exporter": "python",
   "pygments_lexer": "ipython3",
   "version": "3.11.5"
  }
 },
 "nbformat": 4,
 "nbformat_minor": 5
}
